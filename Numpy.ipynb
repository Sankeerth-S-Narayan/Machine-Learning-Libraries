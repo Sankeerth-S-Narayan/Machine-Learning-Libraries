{
 "cells": [
  {
   "cell_type": "code",
   "execution_count": 12,
   "id": "586e90d9",
   "metadata": {},
   "outputs": [],
   "source": [
    "import numpy as np"
   ]
  },
  {
   "cell_type": "code",
   "execution_count": 13,
   "id": "d413ffec",
   "metadata": {},
   "outputs": [],
   "source": [
    "#create an array"
   ]
  },
  {
   "cell_type": "code",
   "execution_count": 14,
   "id": "054c4119",
   "metadata": {},
   "outputs": [
    {
     "data": {
      "text/plain": [
       "array([ 1,  2,  3, 40])"
      ]
     },
     "execution_count": 14,
     "metadata": {},
     "output_type": "execute_result"
    }
   ],
   "source": [
    "list=[1,2,3,40]\n",
    "np.array(list)"
   ]
  },
  {
   "cell_type": "code",
   "execution_count": 15,
   "id": "61510a4d",
   "metadata": {},
   "outputs": [
    {
     "name": "stdout",
     "output_type": "stream",
     "text": [
      "[1 2 3 4]\n"
     ]
    }
   ],
   "source": [
    "arr=np.array([1,2,3,4])\n",
    "print(arr)"
   ]
  },
  {
   "cell_type": "code",
   "execution_count": 16,
   "id": "b0ec95b2",
   "metadata": {},
   "outputs": [
    {
     "data": {
      "text/plain": [
       "array([[1, 2, 3],\n",
       "       [4, 5, 6],\n",
       "       [7, 8, 9]])"
      ]
     },
     "execution_count": 16,
     "metadata": {},
     "output_type": "execute_result"
    }
   ],
   "source": [
    "lists=([1,2,3],[4,5,6],[7,8,9])\n",
    "np.array(lists)"
   ]
  },
  {
   "cell_type": "code",
   "execution_count": 17,
   "id": "ed1d1ee8",
   "metadata": {},
   "outputs": [],
   "source": [
    "#arange function"
   ]
  },
  {
   "cell_type": "code",
   "execution_count": 18,
   "id": "3608415c",
   "metadata": {},
   "outputs": [
    {
     "data": {
      "text/plain": [
       "array([ 5,  6,  7,  8,  9, 10, 11, 12, 13, 14, 15, 16, 17, 18, 19])"
      ]
     },
     "execution_count": 18,
     "metadata": {},
     "output_type": "execute_result"
    }
   ],
   "source": [
    "np.arange(5,20)"
   ]
  },
  {
   "cell_type": "code",
   "execution_count": 19,
   "id": "fae951df",
   "metadata": {},
   "outputs": [
    {
     "data": {
      "text/plain": [
       "array([ 5, 11, 17])"
      ]
     },
     "execution_count": 19,
     "metadata": {},
     "output_type": "execute_result"
    }
   ],
   "source": [
    "np.arange(5,20,6)"
   ]
  },
  {
   "cell_type": "code",
   "execution_count": 20,
   "id": "0e721174",
   "metadata": {},
   "outputs": [
    {
     "data": {
      "text/plain": [
       "array([0., 0., 0., 0., 0.])"
      ]
     },
     "execution_count": 20,
     "metadata": {},
     "output_type": "execute_result"
    }
   ],
   "source": [
    "np.zeros(5)"
   ]
  },
  {
   "cell_type": "code",
   "execution_count": 21,
   "id": "b57303bd",
   "metadata": {},
   "outputs": [
    {
     "data": {
      "text/plain": [
       "array([0, 0, 0, 0, 0])"
      ]
     },
     "execution_count": 21,
     "metadata": {},
     "output_type": "execute_result"
    }
   ],
   "source": [
    "np.zeros(5,dtype=int)"
   ]
  },
  {
   "cell_type": "code",
   "execution_count": 22,
   "id": "4f3d142c",
   "metadata": {},
   "outputs": [],
   "source": [
    "#linspace function"
   ]
  },
  {
   "cell_type": "code",
   "execution_count": 23,
   "id": "4d44cf09",
   "metadata": {},
   "outputs": [
    {
     "data": {
      "text/plain": [
       "array([ 0.        ,  0.40816327,  0.81632653,  1.2244898 ,  1.63265306,\n",
       "        2.04081633,  2.44897959,  2.85714286,  3.26530612,  3.67346939,\n",
       "        4.08163265,  4.48979592,  4.89795918,  5.30612245,  5.71428571,\n",
       "        6.12244898,  6.53061224,  6.93877551,  7.34693878,  7.75510204,\n",
       "        8.16326531,  8.57142857,  8.97959184,  9.3877551 ,  9.79591837,\n",
       "       10.20408163, 10.6122449 , 11.02040816, 11.42857143, 11.83673469,\n",
       "       12.24489796, 12.65306122, 13.06122449, 13.46938776, 13.87755102,\n",
       "       14.28571429, 14.69387755, 15.10204082, 15.51020408, 15.91836735,\n",
       "       16.32653061, 16.73469388, 17.14285714, 17.55102041, 17.95918367,\n",
       "       18.36734694, 18.7755102 , 19.18367347, 19.59183673, 20.        ])"
      ]
     },
     "execution_count": 23,
     "metadata": {},
     "output_type": "execute_result"
    }
   ],
   "source": [
    "np.linspace(0,20)"
   ]
  },
  {
   "cell_type": "code",
   "execution_count": 24,
   "id": "9d06e3e1",
   "metadata": {},
   "outputs": [
    {
     "data": {
      "text/plain": [
       "array([ 0.,  5., 10., 15., 20.])"
      ]
     },
     "execution_count": 24,
     "metadata": {},
     "output_type": "execute_result"
    }
   ],
   "source": [
    "np.linspace(0,20,5)"
   ]
  },
  {
   "cell_type": "code",
   "execution_count": 25,
   "id": "07dd03be",
   "metadata": {},
   "outputs": [
    {
     "data": {
      "text/plain": [
       "array([ 0,  5, 10, 15, 20])"
      ]
     },
     "execution_count": 25,
     "metadata": {},
     "output_type": "execute_result"
    }
   ],
   "source": [
    "np.linspace(0,20,5,dtype=int)"
   ]
  },
  {
   "cell_type": "code",
   "execution_count": 26,
   "id": "18caa37f",
   "metadata": {},
   "outputs": [],
   "source": [
    "#eye function"
   ]
  },
  {
   "cell_type": "code",
   "execution_count": 27,
   "id": "7c730acf",
   "metadata": {},
   "outputs": [
    {
     "data": {
      "text/plain": [
       "array([[1., 0., 0., 0., 0.],\n",
       "       [0., 1., 0., 0., 0.],\n",
       "       [0., 0., 1., 0., 0.],\n",
       "       [0., 0., 0., 1., 0.],\n",
       "       [0., 0., 0., 0., 1.]])"
      ]
     },
     "execution_count": 27,
     "metadata": {},
     "output_type": "execute_result"
    }
   ],
   "source": [
    "np.eye(5)"
   ]
  },
  {
   "cell_type": "code",
   "execution_count": 28,
   "id": "f74296cd",
   "metadata": {},
   "outputs": [
    {
     "data": {
      "text/plain": [
       "array([['1', '', '', '', ''],\n",
       "       ['', '1', '', '', ''],\n",
       "       ['', '', '1', '', ''],\n",
       "       ['', '', '', '1', ''],\n",
       "       ['', '', '', '', '1']], dtype='<U1')"
      ]
     },
     "execution_count": 28,
     "metadata": {},
     "output_type": "execute_result"
    }
   ],
   "source": [
    "np.eye(5,dtype=str)"
   ]
  },
  {
   "cell_type": "code",
   "execution_count": 29,
   "id": "41507c89",
   "metadata": {},
   "outputs": [
    {
     "data": {
      "text/plain": [
       "array([[1., 0., 0., 0., 0.]])"
      ]
     },
     "execution_count": 29,
     "metadata": {},
     "output_type": "execute_result"
    }
   ],
   "source": [
    "np.eye(1,5)"
   ]
  },
  {
   "cell_type": "code",
   "execution_count": 30,
   "id": "026c001a",
   "metadata": {},
   "outputs": [
    {
     "ename": "SyntaxError",
     "evalue": "invalid syntax (<ipython-input-30-763a7b71a016>, line 1)",
     "output_type": "error",
     "traceback": [
      "\u001b[1;36m  File \u001b[1;32m\"<ipython-input-30-763a7b71a016>\"\u001b[1;36m, line \u001b[1;32m1\u001b[0m\n\u001b[1;33m    np.eye(1:2,2:3)\u001b[0m\n\u001b[1;37m            ^\u001b[0m\n\u001b[1;31mSyntaxError\u001b[0m\u001b[1;31m:\u001b[0m invalid syntax\n"
     ]
    }
   ],
   "source": [
    "np.eye(1:2,2:3)"
   ]
  },
  {
   "cell_type": "code",
   "execution_count": null,
   "id": "582e4a98",
   "metadata": {},
   "outputs": [],
   "source": [
    "#random function"
   ]
  },
  {
   "cell_type": "code",
   "execution_count": null,
   "id": "f3764ec7",
   "metadata": {},
   "outputs": [],
   "source": [
    "np.random.rand(2,4)"
   ]
  },
  {
   "cell_type": "code",
   "execution_count": null,
   "id": "58d38399",
   "metadata": {},
   "outputs": [],
   "source": [
    "np.random.rand(2,3)"
   ]
  },
  {
   "cell_type": "code",
   "execution_count": null,
   "id": "f933426e",
   "metadata": {},
   "outputs": [],
   "source": [
    "np.random.randn(2,4)"
   ]
  },
  {
   "cell_type": "code",
   "execution_count": null,
   "id": "16b075e3",
   "metadata": {},
   "outputs": [],
   "source": [
    "#(0-10,15values)"
   ]
  },
  {
   "cell_type": "code",
   "execution_count": null,
   "id": "6bf42b8a",
   "metadata": {},
   "outputs": [],
   "source": [
    "np.random.randint(0,10,15)"
   ]
  },
  {
   "cell_type": "code",
   "execution_count": null,
   "id": "b46cbd33",
   "metadata": {},
   "outputs": [],
   "source": [
    "np.random.randint(20,25,100)"
   ]
  },
  {
   "cell_type": "code",
   "execution_count": null,
   "id": "bdb1f3f7",
   "metadata": {},
   "outputs": [],
   "source": [
    "rand_array=np.random.randint(1,15,10)"
   ]
  },
  {
   "cell_type": "code",
   "execution_count": 31,
   "id": "9d31568a",
   "metadata": {},
   "outputs": [],
   "source": [
    "sample_array=np.arange(0,20)"
   ]
  },
  {
   "cell_type": "code",
   "execution_count": 32,
   "id": "ed32dba0",
   "metadata": {},
   "outputs": [],
   "source": [
    "#min"
   ]
  },
  {
   "cell_type": "code",
   "execution_count": 33,
   "id": "cb94f104",
   "metadata": {},
   "outputs": [
    {
     "data": {
      "text/plain": [
       "0"
      ]
     },
     "execution_count": 33,
     "metadata": {},
     "output_type": "execute_result"
    }
   ],
   "source": [
    "sample_array.min()"
   ]
  },
  {
   "cell_type": "code",
   "execution_count": 34,
   "id": "eb427ae3",
   "metadata": {},
   "outputs": [],
   "source": [
    "#max"
   ]
  },
  {
   "cell_type": "code",
   "execution_count": 35,
   "id": "af04f754",
   "metadata": {},
   "outputs": [
    {
     "ename": "NameError",
     "evalue": "name 'rand_array' is not defined",
     "output_type": "error",
     "traceback": [
      "\u001b[1;31m---------------------------------------------------------------------------\u001b[0m",
      "\u001b[1;31mNameError\u001b[0m                                 Traceback (most recent call last)",
      "\u001b[1;32m<ipython-input-35-9a3d3b4ee678>\u001b[0m in \u001b[0;36m<module>\u001b[1;34m\u001b[0m\n\u001b[1;32m----> 1\u001b[1;33m \u001b[0mrand_array\u001b[0m\u001b[1;33m.\u001b[0m\u001b[0mmax\u001b[0m\u001b[1;33m(\u001b[0m\u001b[1;33m)\u001b[0m\u001b[1;33m\u001b[0m\u001b[1;33m\u001b[0m\u001b[0m\n\u001b[0m",
      "\u001b[1;31mNameError\u001b[0m: name 'rand_array' is not defined"
     ]
    }
   ],
   "source": [
    "rand_array.max()"
   ]
  },
  {
   "cell_type": "code",
   "execution_count": 36,
   "id": "051841b8",
   "metadata": {},
   "outputs": [],
   "source": [
    "#position of min and max"
   ]
  },
  {
   "cell_type": "code",
   "execution_count": 37,
   "id": "44e64955",
   "metadata": {},
   "outputs": [
    {
     "data": {
      "text/plain": [
       "0"
      ]
     },
     "execution_count": 37,
     "metadata": {},
     "output_type": "execute_result"
    }
   ],
   "source": [
    "sample_array.argmin()"
   ]
  },
  {
   "cell_type": "code",
   "execution_count": 38,
   "id": "3ac31f5e",
   "metadata": {},
   "outputs": [
    {
     "ename": "NameError",
     "evalue": "name 'rand_array' is not defined",
     "output_type": "error",
     "traceback": [
      "\u001b[1;31m---------------------------------------------------------------------------\u001b[0m",
      "\u001b[1;31mNameError\u001b[0m                                 Traceback (most recent call last)",
      "\u001b[1;32m<ipython-input-38-d4248888d843>\u001b[0m in \u001b[0;36m<module>\u001b[1;34m\u001b[0m\n\u001b[1;32m----> 1\u001b[1;33m \u001b[0mrand_array\u001b[0m\u001b[1;33m.\u001b[0m\u001b[0margmax\u001b[0m\u001b[1;33m(\u001b[0m\u001b[1;33m)\u001b[0m\u001b[1;33m\u001b[0m\u001b[1;33m\u001b[0m\u001b[0m\n\u001b[0m",
      "\u001b[1;31mNameError\u001b[0m: name 'rand_array' is not defined"
     ]
    }
   ],
   "source": [
    "rand_array.argmax()"
   ]
  },
  {
   "cell_type": "code",
   "execution_count": 39,
   "id": "bca7a78d",
   "metadata": {},
   "outputs": [
    {
     "name": "stdout",
     "output_type": "stream",
     "text": [
      "[ 0  1  2  3  4  5  6  7  8  9 10 11 12 13 14 15 16 17 18 19]\n"
     ]
    }
   ],
   "source": [
    "print(sample_array)"
   ]
  },
  {
   "cell_type": "code",
   "execution_count": 40,
   "id": "04d34850",
   "metadata": {},
   "outputs": [
    {
     "ename": "NameError",
     "evalue": "name 'random_array' is not defined",
     "output_type": "error",
     "traceback": [
      "\u001b[1;31m---------------------------------------------------------------------------\u001b[0m",
      "\u001b[1;31mNameError\u001b[0m                                 Traceback (most recent call last)",
      "\u001b[1;32m<ipython-input-40-9055c116917b>\u001b[0m in \u001b[0;36m<module>\u001b[1;34m\u001b[0m\n\u001b[1;32m----> 1\u001b[1;33m \u001b[0mprint\u001b[0m\u001b[1;33m(\u001b[0m\u001b[0mrandom_array\u001b[0m\u001b[1;33m)\u001b[0m\u001b[1;33m\u001b[0m\u001b[1;33m\u001b[0m\u001b[0m\n\u001b[0m",
      "\u001b[1;31mNameError\u001b[0m: name 'random_array' is not defined"
     ]
    }
   ],
   "source": [
    "print(random_array)"
   ]
  },
  {
   "cell_type": "code",
   "execution_count": 41,
   "id": "99ae5233",
   "metadata": {},
   "outputs": [
    {
     "ename": "NameError",
     "evalue": "name 'rand_array' is not defined",
     "output_type": "error",
     "traceback": [
      "\u001b[1;31m---------------------------------------------------------------------------\u001b[0m",
      "\u001b[1;31mNameError\u001b[0m                                 Traceback (most recent call last)",
      "\u001b[1;32m<ipython-input-41-4ffc20a5eb7d>\u001b[0m in \u001b[0;36m<module>\u001b[1;34m\u001b[0m\n\u001b[1;32m----> 1\u001b[1;33m \u001b[0mprint\u001b[0m\u001b[1;33m(\u001b[0m\u001b[0mrand_array\u001b[0m\u001b[1;33m)\u001b[0m\u001b[1;33m\u001b[0m\u001b[1;33m\u001b[0m\u001b[0m\n\u001b[0m",
      "\u001b[1;31mNameError\u001b[0m: name 'rand_array' is not defined"
     ]
    }
   ],
   "source": [
    "print(rand_array)"
   ]
  },
  {
   "cell_type": "code",
   "execution_count": 42,
   "id": "4262f8ec",
   "metadata": {},
   "outputs": [],
   "source": [
    "rand_array=np.random.rand(1,15,10)"
   ]
  },
  {
   "cell_type": "code",
   "execution_count": 43,
   "id": "672c3a09",
   "metadata": {},
   "outputs": [
    {
     "name": "stdout",
     "output_type": "stream",
     "text": [
      "[[[0.18820703 0.34951342 0.56744917 0.41816143 0.65036552 0.86258862\n",
      "   0.55057465 0.61304781 0.26466014 0.22465431]\n",
      "  [0.40217157 0.81142665 0.90746457 0.18975105 0.64394401 0.78027616\n",
      "   0.38921634 0.84124545 0.60105637 0.11281618]\n",
      "  [0.89798855 0.18045088 0.81105049 0.29132488 0.70172535 0.50568622\n",
      "   0.80061541 0.3397351  0.93789017 0.3895793 ]\n",
      "  [0.94500706 0.99871952 0.40196031 0.52971914 0.05807175 0.12763809\n",
      "   0.68728546 0.64573744 0.91531499 0.3830548 ]\n",
      "  [0.49739093 0.27467891 0.45802067 0.93687094 0.86387441 0.96096629\n",
      "   0.74107649 0.3166935  0.92540519 0.8761586 ]\n",
      "  [0.74851179 0.85114238 0.86390262 0.51743626 0.02516663 0.18266629\n",
      "   0.93694675 0.00463821 0.57404544 0.43678146]\n",
      "  [0.63852425 0.38957047 0.3954058  0.20440787 0.61731459 0.47073739\n",
      "   0.83501967 0.53553731 0.51780431 0.50581368]\n",
      "  [0.01587959 0.36370768 0.81969716 0.3123483  0.68945446 0.53887629\n",
      "   0.12046094 0.53592215 0.15200262 0.14751071]\n",
      "  [0.06819468 0.42865987 0.28368644 0.44411536 0.13988381 0.35963797\n",
      "   0.80425236 0.0799376  0.28318308 0.51037373]\n",
      "  [0.91918044 0.41069589 0.53128168 0.39955465 0.69423411 0.31392903\n",
      "   0.59823309 0.98550475 0.27875966 0.95528557]\n",
      "  [0.94314913 0.90942229 0.60484353 0.27073399 0.03000707 0.65187307\n",
      "   0.91445766 0.00392669 0.40353538 0.30089955]\n",
      "  [0.13680166 0.77423525 0.1074126  0.28863705 0.00387316 0.66257872\n",
      "   0.39243751 0.63058064 0.98075828 0.42530128]\n",
      "  [0.39538076 0.41284386 0.65813631 0.95840371 0.30737855 0.89839883\n",
      "   0.13321858 0.38673964 0.98318723 0.66717069]\n",
      "  [0.06505505 0.81859734 0.18504257 0.50796177 0.41279332 0.50422632\n",
      "   0.42659457 0.74448759 0.60128847 0.39534608]\n",
      "  [0.33545665 0.79825918 0.87124439 0.98560568 0.30480207 0.97281913\n",
      "   0.27394993 0.35740334 0.87776331 0.88523317]]]\n"
     ]
    }
   ],
   "source": [
    "print(rand_array)"
   ]
  },
  {
   "cell_type": "code",
   "execution_count": 83,
   "id": "0a3e6db4",
   "metadata": {},
   "outputs": [],
   "source": [
    "a=np.eye(5)"
   ]
  },
  {
   "cell_type": "code",
   "execution_count": 84,
   "id": "29f2bca2",
   "metadata": {},
   "outputs": [
    {
     "data": {
      "text/plain": [
       "array([[1., 0., 0., 0., 0.],\n",
       "       [0., 1., 0., 0., 0.],\n",
       "       [0., 0., 1., 0., 0.],\n",
       "       [0., 0., 0., 1., 0.],\n",
       "       [0., 0., 0., 0., 1.]])"
      ]
     },
     "execution_count": 84,
     "metadata": {},
     "output_type": "execute_result"
    }
   ],
   "source": [
    "a"
   ]
  },
  {
   "cell_type": "code",
   "execution_count": 45,
   "id": "80ec6267",
   "metadata": {},
   "outputs": [
    {
     "ename": "AttributeError",
     "evalue": "'numpy.ndarray' object has no attribute 't'",
     "output_type": "error",
     "traceback": [
      "\u001b[1;31m---------------------------------------------------------------------------\u001b[0m",
      "\u001b[1;31mAttributeError\u001b[0m                            Traceback (most recent call last)",
      "\u001b[1;32m<ipython-input-45-ec157fd2feef>\u001b[0m in \u001b[0;36m<module>\u001b[1;34m\u001b[0m\n\u001b[1;32m----> 1\u001b[1;33m \u001b[0ma\u001b[0m\u001b[1;33m.\u001b[0m\u001b[0mt\u001b[0m\u001b[1;33m\u001b[0m\u001b[1;33m\u001b[0m\u001b[0m\n\u001b[0m",
      "\u001b[1;31mAttributeError\u001b[0m: 'numpy.ndarray' object has no attribute 't'"
     ]
    }
   ],
   "source": [
    "a.t"
   ]
  },
  {
   "cell_type": "code",
   "execution_count": 46,
   "id": "e59dce49",
   "metadata": {},
   "outputs": [],
   "source": [
    "#transpose"
   ]
  },
  {
   "cell_type": "code",
   "execution_count": 47,
   "id": "a6a0051c",
   "metadata": {},
   "outputs": [
    {
     "data": {
      "text/plain": [
       "array([[1., 0., 0., 0., 0.],\n",
       "       [0., 1., 0., 0., 0.],\n",
       "       [0., 0., 1., 0., 0.],\n",
       "       [0., 0., 0., 1., 0.],\n",
       "       [0., 0., 0., 0., 1.]])"
      ]
     },
     "execution_count": 47,
     "metadata": {},
     "output_type": "execute_result"
    }
   ],
   "source": [
    "a.T"
   ]
  },
  {
   "cell_type": "code",
   "execution_count": 48,
   "id": "90e67f7e",
   "metadata": {},
   "outputs": [
    {
     "ename": "ValueError",
     "evalue": "cannot reshape array of size 20 into shape (2,7)",
     "output_type": "error",
     "traceback": [
      "\u001b[1;31m---------------------------------------------------------------------------\u001b[0m",
      "\u001b[1;31mValueError\u001b[0m                                Traceback (most recent call last)",
      "\u001b[1;32m<ipython-input-48-eb1a84717f37>\u001b[0m in \u001b[0;36m<module>\u001b[1;34m\u001b[0m\n\u001b[1;32m----> 1\u001b[1;33m \u001b[0msample_array\u001b[0m\u001b[1;33m=\u001b[0m\u001b[0msample_array\u001b[0m\u001b[1;33m.\u001b[0m\u001b[0mreshape\u001b[0m\u001b[1;33m(\u001b[0m\u001b[1;36m2\u001b[0m\u001b[1;33m,\u001b[0m\u001b[1;36m7\u001b[0m\u001b[1;33m)\u001b[0m\u001b[1;33m\u001b[0m\u001b[1;33m\u001b[0m\u001b[0m\n\u001b[0m",
      "\u001b[1;31mValueError\u001b[0m: cannot reshape array of size 20 into shape (2,7)"
     ]
    }
   ],
   "source": [
    "sample_array=sample_array.reshape(2,7)"
   ]
  },
  {
   "cell_type": "code",
   "execution_count": 49,
   "id": "a953caa5",
   "metadata": {},
   "outputs": [],
   "source": [
    "sample_array=sample_array.reshape(2,10)"
   ]
  },
  {
   "cell_type": "code",
   "execution_count": 50,
   "id": "a65cd918",
   "metadata": {},
   "outputs": [
    {
     "data": {
      "text/plain": [
       "array([[ 0,  1,  2,  3,  4,  5,  6,  7,  8,  9],\n",
       "       [10, 11, 12, 13, 14, 15, 16, 17, 18, 19]])"
      ]
     },
     "execution_count": 50,
     "metadata": {},
     "output_type": "execute_result"
    }
   ],
   "source": [
    "sample_array"
   ]
  },
  {
   "cell_type": "code",
   "execution_count": 51,
   "id": "3a0df7b3",
   "metadata": {},
   "outputs": [
    {
     "ename": "IndexError",
     "evalue": "index 3 is out of bounds for axis 0 with size 2",
     "output_type": "error",
     "traceback": [
      "\u001b[1;31m---------------------------------------------------------------------------\u001b[0m",
      "\u001b[1;31mIndexError\u001b[0m                                Traceback (most recent call last)",
      "\u001b[1;32m<ipython-input-51-2d08f14297f2>\u001b[0m in \u001b[0;36m<module>\u001b[1;34m\u001b[0m\n\u001b[1;32m----> 1\u001b[1;33m \u001b[0msample_array\u001b[0m\u001b[1;33m[\u001b[0m\u001b[1;36m3\u001b[0m\u001b[1;33m]\u001b[0m\u001b[1;33m=\u001b[0m\u001b[1;36m50\u001b[0m\u001b[1;33m\u001b[0m\u001b[1;33m\u001b[0m\u001b[0m\n\u001b[0m",
      "\u001b[1;31mIndexError\u001b[0m: index 3 is out of bounds for axis 0 with size 2"
     ]
    }
   ],
   "source": [
    "sample_array[3]=50"
   ]
  },
  {
   "cell_type": "code",
   "execution_count": 52,
   "id": "5ab40966",
   "metadata": {},
   "outputs": [
    {
     "ename": "IndexError",
     "evalue": "index 2 is out of bounds for axis 0 with size 2",
     "output_type": "error",
     "traceback": [
      "\u001b[1;31m---------------------------------------------------------------------------\u001b[0m",
      "\u001b[1;31mIndexError\u001b[0m                                Traceback (most recent call last)",
      "\u001b[1;32m<ipython-input-52-99b3c849a627>\u001b[0m in \u001b[0;36m<module>\u001b[1;34m\u001b[0m\n\u001b[1;32m----> 1\u001b[1;33m \u001b[0msample_array\u001b[0m\u001b[1;33m[\u001b[0m\u001b[1;36m2\u001b[0m\u001b[1;33m]\u001b[0m\u001b[1;33m=\u001b[0m\u001b[1;36m50\u001b[0m\u001b[1;33m\u001b[0m\u001b[1;33m\u001b[0m\u001b[0m\n\u001b[0m",
      "\u001b[1;31mIndexError\u001b[0m: index 2 is out of bounds for axis 0 with size 2"
     ]
    }
   ],
   "source": [
    "sample_array[2]=50"
   ]
  },
  {
   "cell_type": "code",
   "execution_count": 53,
   "id": "b7c5087f",
   "metadata": {},
   "outputs": [],
   "source": [
    "sample_array[1]=50"
   ]
  },
  {
   "cell_type": "code",
   "execution_count": 54,
   "id": "be9fc694",
   "metadata": {},
   "outputs": [
    {
     "data": {
      "text/plain": [
       "array([[ 0,  1,  2,  3,  4,  5,  6,  7,  8,  9],\n",
       "       [50, 50, 50, 50, 50, 50, 50, 50, 50, 50]])"
      ]
     },
     "execution_count": 54,
     "metadata": {},
     "output_type": "execute_result"
    }
   ],
   "source": [
    "sample_array"
   ]
  },
  {
   "cell_type": "code",
   "execution_count": 56,
   "id": "787a6ed7",
   "metadata": {},
   "outputs": [
    {
     "data": {
      "text/plain": [
       "array([[50, 50, 50, 50, 50, 50, 50, 50, 50, 50]])"
      ]
     },
     "execution_count": 56,
     "metadata": {},
     "output_type": "execute_result"
    }
   ],
   "source": [
    "sample_array[1:12]"
   ]
  },
  {
   "cell_type": "code",
   "execution_count": 57,
   "id": "c23056e4",
   "metadata": {},
   "outputs": [],
   "source": [
    "subset_sample_array=sample_array[0:7]"
   ]
  },
  {
   "cell_type": "code",
   "execution_count": 58,
   "id": "09f62325",
   "metadata": {
    "scrolled": true
   },
   "outputs": [
    {
     "data": {
      "text/plain": [
       "array([[ 0,  1,  2,  3,  4,  5,  6,  7,  8,  9],\n",
       "       [50, 50, 50, 50, 50, 50, 50, 50, 50, 50]])"
      ]
     },
     "execution_count": 58,
     "metadata": {},
     "output_type": "execute_result"
    }
   ],
   "source": [
    "subset_sample_array"
   ]
  },
  {
   "cell_type": "markdown",
   "id": "ec9f7534",
   "metadata": {},
   "source": [
    "# Two dimensional array"
   ]
  },
  {
   "cell_type": "code",
   "execution_count": 61,
   "id": "3005289e",
   "metadata": {},
   "outputs": [],
   "source": [
    "matrix=np.array(([10,20,30],[40,50,60],[70,80,90]))"
   ]
  },
  {
   "cell_type": "code",
   "execution_count": 62,
   "id": "d618739d",
   "metadata": {},
   "outputs": [
    {
     "data": {
      "text/plain": [
       "array([[10, 20, 30],\n",
       "       [40, 50, 60],\n",
       "       [70, 80, 90]])"
      ]
     },
     "execution_count": 62,
     "metadata": {},
     "output_type": "execute_result"
    }
   ],
   "source": [
    "matrix"
   ]
  },
  {
   "cell_type": "code",
   "execution_count": null,
   "id": "ca8d9ade",
   "metadata": {},
   "outputs": [],
   "source": [
    "# matrix(row,column)"
   ]
  },
  {
   "cell_type": "code",
   "execution_count": 63,
   "id": "c498f2a8",
   "metadata": {},
   "outputs": [
    {
     "data": {
      "text/plain": [
       "90"
      ]
     },
     "execution_count": 63,
     "metadata": {},
     "output_type": "execute_result"
    }
   ],
   "source": [
    "matrix[2][2]"
   ]
  },
  {
   "cell_type": "code",
   "execution_count": 64,
   "id": "2d3a4361",
   "metadata": {},
   "outputs": [
    {
     "data": {
      "text/plain": [
       "60"
      ]
     },
     "execution_count": 64,
     "metadata": {},
     "output_type": "execute_result"
    }
   ],
   "source": [
    "matrix[1][2]"
   ]
  },
  {
   "cell_type": "code",
   "execution_count": 65,
   "id": "46fb5710",
   "metadata": {},
   "outputs": [
    {
     "data": {
      "text/plain": [
       "array([[10, 20, 30],\n",
       "       [40, 50, 60]])"
      ]
     },
     "execution_count": 65,
     "metadata": {},
     "output_type": "execute_result"
    }
   ],
   "source": [
    "matrix[:2]"
   ]
  },
  {
   "cell_type": "code",
   "execution_count": 66,
   "id": "69848633",
   "metadata": {},
   "outputs": [
    {
     "data": {
      "text/plain": [
       "array([[10, 20, 30],\n",
       "       [40, 50, 60],\n",
       "       [70, 80, 90]])"
      ]
     },
     "execution_count": 66,
     "metadata": {},
     "output_type": "execute_result"
    }
   ],
   "source": [
    "matrix[:3]"
   ]
  },
  {
   "cell_type": "code",
   "execution_count": 75,
   "id": "22624eed",
   "metadata": {},
   "outputs": [
    {
     "data": {
      "text/plain": [
       "array([], shape=(0, 3), dtype=int32)"
      ]
     },
     "execution_count": 75,
     "metadata": {},
     "output_type": "execute_result"
    }
   ],
   "source": [
    "matrix[1:2][1:]"
   ]
  },
  {
   "cell_type": "code",
   "execution_count": 76,
   "id": "97b1ee35",
   "metadata": {},
   "outputs": [],
   "source": [
    "#"
   ]
  },
  {
   "cell_type": "code",
   "execution_count": 77,
   "id": "eafd9cb9",
   "metadata": {},
   "outputs": [
    {
     "data": {
      "text/plain": [
       "22.84047941703501"
      ]
     },
     "execution_count": 77,
     "metadata": {},
     "output_type": "execute_result"
    }
   ],
   "source": [
    "np.std(sample_array)"
   ]
  },
  {
   "cell_type": "code",
   "execution_count": 78,
   "id": "70822d98",
   "metadata": {},
   "outputs": [
    {
     "data": {
      "text/plain": [
       "27.25"
      ]
     },
     "execution_count": 78,
     "metadata": {},
     "output_type": "execute_result"
    }
   ],
   "source": [
    "np.mean(sample_array)"
   ]
  },
  {
   "cell_type": "code",
   "execution_count": 79,
   "id": "1d219fcb",
   "metadata": {},
   "outputs": [
    {
     "data": {
      "text/plain": [
       "array([[ 0,  1,  2,  3,  4,  5,  6,  7,  8,  9],\n",
       "       [50, 50, 50, 50, 50, 50, 50, 50, 50, 50]])"
      ]
     },
     "execution_count": 79,
     "metadata": {},
     "output_type": "execute_result"
    }
   ],
   "source": [
    "np.round(sample_array)"
   ]
  },
  {
   "cell_type": "code",
   "execution_count": 80,
   "id": "c65e4c3e",
   "metadata": {},
   "outputs": [
    {
     "ename": "SyntaxError",
     "evalue": "invalid syntax (<ipython-input-80-3b6dc7771fae>, line 1)",
     "output_type": "error",
     "traceback": [
      "\u001b[1;36m  File \u001b[1;32m\"<ipython-input-80-3b6dc7771fae>\"\u001b[1;36m, line \u001b[1;32m1\u001b[0m\n\u001b[1;33m    np.round(sample_array,decimal 3)\u001b[0m\n\u001b[1;37m                                  ^\u001b[0m\n\u001b[1;31mSyntaxError\u001b[0m\u001b[1;31m:\u001b[0m invalid syntax\n"
     ]
    }
   ],
   "source": [
    "np.round(sample_array,decimal 3)"
   ]
  },
  {
   "cell_type": "code",
   "execution_count": 91,
   "id": "30421772",
   "metadata": {},
   "outputs": [],
   "source": [
    "c=np.linspace(0,0,10,dtype=int)"
   ]
  },
  {
   "cell_type": "code",
   "execution_count": 87,
   "id": "89bc1f30",
   "metadata": {},
   "outputs": [
    {
     "data": {
      "text/plain": [
       "array([ 0.        ,  0.20408163,  0.40816327,  0.6122449 ,  0.81632653,\n",
       "        1.02040816,  1.2244898 ,  1.42857143,  1.63265306,  1.83673469,\n",
       "        2.04081633,  2.24489796,  2.44897959,  2.65306122,  2.85714286,\n",
       "        3.06122449,  3.26530612,  3.46938776,  3.67346939,  3.87755102,\n",
       "        4.08163265,  4.28571429,  4.48979592,  4.69387755,  4.89795918,\n",
       "        5.10204082,  5.30612245,  5.51020408,  5.71428571,  5.91836735,\n",
       "        6.12244898,  6.32653061,  6.53061224,  6.73469388,  6.93877551,\n",
       "        7.14285714,  7.34693878,  7.55102041,  7.75510204,  7.95918367,\n",
       "        8.16326531,  8.36734694,  8.57142857,  8.7755102 ,  8.97959184,\n",
       "        9.18367347,  9.3877551 ,  9.59183673,  9.79591837, 10.        ])"
      ]
     },
     "execution_count": 87,
     "metadata": {},
     "output_type": "execute_result"
    }
   ],
   "source": [
    "c"
   ]
  },
  {
   "cell_type": "code",
   "execution_count": 92,
   "id": "e6a3ddc4",
   "metadata": {},
   "outputs": [
    {
     "data": {
      "text/plain": [
       "array([], dtype=int32)"
      ]
     },
     "execution_count": 92,
     "metadata": {},
     "output_type": "execute_result"
    }
   ],
   "source": [
    "np.arange(0,0,6)"
   ]
  },
  {
   "cell_type": "code",
   "execution_count": null,
   "id": "41d3f774",
   "metadata": {},
   "outputs": [],
   "source": []
  }
 ],
 "metadata": {
  "kernelspec": {
   "display_name": "Python 3",
   "language": "python",
   "name": "python3"
  },
  "language_info": {
   "codemirror_mode": {
    "name": "ipython",
    "version": 3
   },
   "file_extension": ".py",
   "mimetype": "text/x-python",
   "name": "python",
   "nbconvert_exporter": "python",
   "pygments_lexer": "ipython3",
   "version": "3.8.8"
  }
 },
 "nbformat": 4,
 "nbformat_minor": 5
}
